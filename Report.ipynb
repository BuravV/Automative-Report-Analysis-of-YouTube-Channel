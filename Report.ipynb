{
 "cells": [
  {
   "cell_type": "markdown",
   "id": "118712dc-589f-4f63-9498-222b443a1c62",
   "metadata": {},
   "source": [
    "# Generating Youtube pdf Report "
   ]
  },
  {
   "cell_type": "markdown",
   "id": "e5e24b10-5b49-4da6-b19a-fd299ba4073f",
   "metadata": {},
   "source": [
    "# Necessary packages "
   ]
  },
  {
   "cell_type": "code",
   "execution_count": 349,
   "id": "c9c65386-3e1c-488d-85f1-1342512778c0",
   "metadata": {},
   "outputs": [],
   "source": [
    "# importing packages \n",
    "\n",
    "import numpy as np\n",
    "import pandas as pd \n",
    "\n",
    "from datetime import datetime\n",
    "import seaborn as sns\n",
    "from matplotlib import pyplot as plt, dates as mdates\n",
    "from wordcloud import WordCloud\n",
    "\n",
    "from googleapiclient.discovery import build\n",
    "from fpdf import FPDF"
   ]
  },
  {
   "cell_type": "markdown",
   "id": "d732cfa6-bfac-45b3-a717-610c042c4fa8",
   "metadata": {},
   "source": [
    "# Getting Youtube channel statistics with API "
   ]
  },
  {
   "cell_type": "code",
   "execution_count": 359,
   "id": "b71df713-b218-400b-9382-db4a858e9546",
   "metadata": {},
   "outputs": [],
   "source": [
    "channel_id = 'UCq6XkhO5SZ66N04IcPbqNcw'                 \n",
    "api_key = 'YOUR API KEY'    \n",
    "#server \n",
    "youtube = build('youtube' , 'v3', developerKey=api_key)             "
   ]
  },
  {
   "cell_type": "code",
   "execution_count": 361,
   "id": "e5b080fd-c362-4cbb-91a2-3fce588c454e",
   "metadata": {},
   "outputs": [],
   "source": [
    "def get_info(youtube, channel_id):\n",
    "    \n",
    "    #requesting general info about the channel: \n",
    "    \n",
    "    request = youtube.channels().list(\n",
    "                        part=\"snippet,contentDetails,statistics, topicDetails, status\",\n",
    "                        id=channel_id)\n",
    "    response = request.execute()\n",
    "    \n",
    "    #creating a dictionary to store needed information (+ changing formats of data):\n",
    "    \n",
    "    general_info = dict(Date_of_extraction = datetime.now().strftime(\"%d/%m/%Y %H:%M\"),\n",
    "               Channel_name = response['items'][0]['snippet']['title'],\n",
    "               Date_created = response['items'][0]['snippet']['publishedAt'],        \n",
    "               Subscribers = pd.to_numeric(response['items'][0]['statistics']['subscriberCount']),\n",
    "               Views = pd.to_numeric(response['items'][0]['statistics']['viewCount']),\n",
    "               Number_of_videos = pd.to_numeric(response['items'][0]['statistics']['videoCount']))\n",
    "    \n",
    "    #saving playlist id as a separate value to find all videos of the channel later:  \n",
    "     \n",
    "    playlist_id = response['items'][0]['contentDetails']['relatedPlaylists']['uploads']   \n",
    "        \n",
    "    # getting videos ids \n",
    "    \n",
    "    request = youtube.playlistItems().list(\n",
    "                part='contentDetails',\n",
    "                playlistId = playlist_id,\n",
    "                maxResults = 50)\n",
    "    response = request.execute()\n",
    "    \n",
    "    video_ids = []\n",
    "    \n",
    "    for i in range(len(response['items'])):\n",
    "        video_ids.append(response['items'][i]['contentDetails']['videoId'])\n",
    "        \n",
    "    next_page_token = response.get('nextPageToken')\n",
    "    more_pages = True\n",
    "    \n",
    "    while more_pages:\n",
    "        if next_page_token is None:\n",
    "            more_pages = False\n",
    "        else:\n",
    "            request = youtube.playlistItems().list(\n",
    "                        part='contentDetails',\n",
    "                        playlistId = playlist_id,\n",
    "                        maxResults = 50,\n",
    "                        pageToken = next_page_token)\n",
    "            response = request.execute()\n",
    "    \n",
    "            for i in range(len(response['items'])):\n",
    "                video_ids.append(response['items'][i]['contentDetails']['videoId'])\n",
    "            \n",
    "            next_page_token = response.get('nextPageToken')\n",
    "            \n",
    "    #now with each video id, videos statistics can be found: \n",
    "    \n",
    "    all_video_stats = []\n",
    "    \n",
    "    for i in range(0, len(video_ids), 50):\n",
    "        request = youtube.videos().list(\n",
    "                    part='snippet,statistics',\n",
    "                    id=','.join(video_ids[i:i+50]))\n",
    "        response = request.execute()\n",
    "        \n",
    "        for video in response['items']:\n",
    "            video_stats = dict(Title = video['snippet']['title'],\n",
    "                               Published_date = pd.to_datetime(video['snippet']['publishedAt']), \n",
    "                               Views = pd.to_numeric(video['statistics']['viewCount']),\n",
    "                               Likes = pd.to_numeric(video['statistics']['likeCount']),\n",
    "                               Comments = pd.to_numeric(video['statistics']['commentCount']))\n",
    "            #checking if the video has tags: \n",
    "            if 'tags' in video['snippet']:\n",
    "                video_stats['Tags'] = video['snippet']['tags']\n",
    "            \n",
    "            all_video_stats.append(video_stats)\n",
    "    \n",
    "    #turning dictionary to panda dataframe: \n",
    "    \n",
    "    panda_all_video_stats = pd.DataFrame(all_video_stats)\n",
    "   \n",
    "    panda_all_video_stats['Published_date'] = pd.to_datetime(panda_all_video_stats['Published_date']).dt.tz_localize(None).dt.normalize()\n",
    "            \n",
    "    return general_info, panda_all_video_stats         "
   ]
  },
  {
   "cell_type": "code",
   "execution_count": 362,
   "id": "c88c98e4-936b-4f3a-b939-a1bcc2ef1c21",
   "metadata": {},
   "outputs": [
    {
     "data": {
      "text/plain": [
       "{'Date_of_extraction': '20/07/2022 09:06',\n",
       " 'Channel_name': 'Keith Galli',\n",
       " 'Date_created': '2016-12-27T20:18:51Z',\n",
       " 'Subscribers': 166000,\n",
       " 'Views': 11175307,\n",
       " 'Number_of_videos': 74}"
      ]
     },
     "execution_count": 362,
     "metadata": {},
     "output_type": "execute_result"
    }
   ],
   "source": [
    "info, vid_info = get_info(youtube, channel_id)"
   ]
  },
  {
   "cell_type": "markdown",
   "id": "c7e7fa12-806b-47d3-a7f5-16f12e70eca4",
   "metadata": {},
   "source": [
    "# Creating PDF"
   ]
  },
  {
   "cell_type": "code",
   "execution_count": 363,
   "id": "0eaaed69-d06f-4570-993e-0cde2cce60de",
   "metadata": {
    "tags": []
   },
   "outputs": [],
   "source": [
    "# titel\n",
    "def title(pdf): \n",
    "    pdf.set_font('Times', 'B', 24)\n",
    "    pdf.ln(10)\n",
    "    pdf.write(5, 'Report Analysis of Youtube Channel')\n",
    "    pdf.ln(10)"
   ]
  },
  {
   "cell_type": "code",
   "execution_count": null,
   "id": "09539ac7-b330-4abb-8750-d8db73b452a5",
   "metadata": {
    "tags": []
   },
   "outputs": [],
   "source": [
    "#general statistics     \n",
    "def main_stat(pdf, info = info):\n",
    "    pdf.set_font('Times', 'I', 12)\n",
    "    pdf.write(5, 'The data was extracted on ' + str(info['Date_of_extraction']))\n",
    "    pdf.ln(9)\n",
    "    \n",
    "    pdf.set_font('Times', '', 12)\n",
    "    pdf.write(5, 'Name of the Channel: ' + str(info['Channel_name']))\n",
    "    pdf.ln(6)\n",
    "    pdf.write(5, 'The Creation Date: ' + str(info['Date_created'][:10]))\n",
    "    pdf.ln(6)\n",
    "    pdf.write(5, 'Total Subscribers: ' + str(info['Subscribers']))\n",
    "    pdf.ln(6)\n",
    "    pdf.write(5, 'Total Amount of Views: ' + str(info['Views']))\n",
    "    pdf.ln(6)\n",
    "    pdf.write(5, 'Total Number of Videos: ' + str(info['Number_of_videos']))\n",
    "    pdf.ln(10)"
   ]
  },
  {
   "cell_type": "code",
   "execution_count": null,
   "id": "3d2045f9-fdcf-424c-816b-28249d9d9d48",
   "metadata": {},
   "outputs": [],
   "source": [
    "#top 10 videos views \n",
    "def view_graph(pdf, vid_info = vid_info):\n",
    "    #creating graph \n",
    "    top_10_view = vid_info.sort_values('Views', ascending = False).head(10)\n",
    "    chart1 = sns.barplot(x = top_10_view['Views'], y = top_10_view['Title'], color = 'red')\n",
    "    chart1.set(title = 'Top 10 Videos by Views')\n",
    "    plt.savefig('chart1.png',  bbox_inches='tight')\n",
    "    plt.close()\n",
    "    #plotting it \n",
    "    pdf.image('chart1.png', x = 0, w = WIDTH)\n",
    "    pdf.ln(2)"
   ]
  },
  {
   "cell_type": "code",
   "execution_count": null,
   "id": "d62e2573-249a-4393-b628-95fb11ccecdb",
   "metadata": {},
   "outputs": [],
   "source": [
    "def like_graph(pdf, vid_info = vid_info):\n",
    "    #creating graph\n",
    "    top_10_likes = vid_info.sort_values('Likes', ascending = False).head(10)\n",
    "    chart2 = sns.barplot(x = top_10_likes['Likes'], y = top_10_likes['Title'], color = 'red')\n",
    "    chart2.set(title = 'Top 10 Videos by Likes')\n",
    "    plt.savefig('chart2.png',  bbox_inches='tight')\n",
    "    plt.close()\n",
    "    #plotting it \n",
    "    pdf.image('chart2.png', x = 0, w = WIDTH)\n",
    "    pdf.ln(5)"
   ]
  },
  {
   "cell_type": "code",
   "execution_count": null,
   "id": "6440c8b8-b3de-4490-8298-3972683fff8b",
   "metadata": {},
   "outputs": [],
   "source": [
    "def comm_graph(pdf, vid_info = vid_info):\n",
    "    #creating graph\n",
    "    top_10_comments = vid_info.sort_values('Comments', ascending = False).head(10).reset_index(drop = True)\n",
    "    chart3 = sns.barplot(x = top_10_comments['Comments'], y = top_10_comments['Title'], color = 'red')\n",
    "    chart3.set(title = 'Top 10 Videos by Comments')\n",
    "    plt.savefig('chart3.png',  bbox_inches='tight')\n",
    "    plt.close()\n",
    "    plt.close('fig3')\n",
    "    #plotting it \n",
    "    pdf.image('chart3.png', x = 0, y = 225, w = 210)"
   ]
  },
  {
   "cell_type": "code",
   "execution_count": 364,
   "id": "ce05e019-e2f8-43c0-a28d-dced198e0c09",
   "metadata": {},
   "outputs": [],
   "source": [
    "def month_graph(pdf, vid_info = vid_info):\n",
    "    # filling the gaps between months when videos weren't posted \n",
    "\n",
    "    #extracting year and month from date \n",
    "    vid_info['Year_Month'] = vid_info['Published_date'].dt.to_period('M')\n",
    "\n",
    "    #how many videos were published every month \n",
    "    vid_month = vid_info.groupby(['Year_Month']).count()['Title'].reset_index()\n",
    "\n",
    "    #creaing a month range from the first and last uploads  \n",
    "    all_date = pd.date_range(vid_info['Published_date'].min(), vid_info['Published_date'].max(), freq='MS')\n",
    "\n",
    "    #creaing a df and making date the same format as in the main df to join it \n",
    "    all_d = pd.DataFrame(all_date, columns = ['Year_Month'])\n",
    "    all_d['Year_Month'] = all_d['Year_Month'].dt.to_period('M')\n",
    "\n",
    "    # lef join of two dfs \n",
    "    freq = (pd.merge(all_d, vid_month, on = 'Year_Month', how = 'left'))[['Year_Month','Title']]\n",
    "\n",
    "    #frequency of posting videos [how acttive was youtuber in the given period of time]\n",
    "\n",
    "    #plotting the graph \n",
    "    x = np.arange(0,len(freq),1)\n",
    "    fig, ax = plt.subplots(1,1)\n",
    "    fig.set_figheight(5)\n",
    "    fig.set_figwidth(20)\n",
    "\n",
    "    #plotting bars \n",
    "    plt.bar(range(len(freq['Title'])), freq['Title'], align='center', color = 'red', width = 0.4)\n",
    "    #plotting mean line \n",
    "    y_mean = [np.mean(freq['Title'].mean())]*len(freq['Year_Month'])\n",
    "    ax.plot(range(len(freq['Title'])), y_mean, color = 'black', linestyle = '--', label = 'mean')\n",
    "\n",
    "    #formating \n",
    "    ax.legend(loc='upper right')\n",
    "    ax.set_xticks(x)\n",
    "    ax.set_xticklabels(freq['Year_Month'])\n",
    "    ax.set_ylabel('Numer of videos')\n",
    "    ax.set_title('Number of videos that Youtuber posted every month')\n",
    "    plt.xticks(rotation = 90)\n",
    "    plt.savefig('chart4.png',  bbox_inches='tight')\n",
    "    plt.close()\n",
    "    \n",
    "    pdf.image('chart4.png', 0, w = 210)\n",
    "    pdf.ln(5)"
   ]
  },
  {
   "cell_type": "code",
   "execution_count": 365,
   "id": "efd728e5-8fcf-44cb-bfed-1cd49878cbd7",
   "metadata": {},
   "outputs": [],
   "source": [
    "#creating WordCloud of tags \n",
    "def tag_stat(pdf, vid_info = vid_info):\n",
    "    #replacing all NaN with 0 \n",
    "    vid_info['Tags'] = vid_info['Tags'].fillna(0)\n",
    "    vid_info['Amount of tags'] = len(vid_info['Tags'])\n",
    "    count_tags = vid_info['Amount of tags'].sum()\n",
    "    avarage = count_tags/(vid_info['Title'].count())\n",
    "\n",
    "    #getting a list of every tag from all videos \n",
    "    all_tags = vid_info['Tags'].tolist()\n",
    "    tags = []\n",
    "    count = 0 \n",
    "    for element in all_tags:\n",
    "        if element != 0:\n",
    "            tags += element\n",
    "            count += 1   #amount of vid with tags \n",
    "            \n",
    "    pdf.set_font('Times', 'B', 12)\n",
    "    pdf.write(5, 'Tags:')\n",
    "    pdf.ln(6)\n",
    "    pdf.set_font('Times', '', 12)\n",
    "    pdf.write(5, 'Youtuber has used in total ' + str(count_tags) + ' tags for all videos. Avarage amount of tags (for videos with tags) is ' + str(avarage))\n",
    "\n",
    "    #counting tags \n",
    "    values, counts = np.unique(tags, return_counts=True)\n",
    "    dic_tags = dict(zip(values,counts))  #giving a dictionary with unique tags and their values \n",
    "\n",
    "    #creating wordcloud \n",
    "    wordcloud = WordCloud(width = 600, height = 300, colormap='Reds', background_color = 'white',collocations=False, \n",
    "                                          max_words = len(dic_tags)).generate_from_frequencies(dic_tags)\n",
    "    \n",
    "    #saving wordcloud\n",
    "    plt.imshow(wordcloud, interpolation='bilinear')\n",
    "    plt.axis(\"off\")\n",
    "    plt.savefig('chart5.png',  bbox_inches='tight')\n",
    "    plt.close()\n",
    "    #plotting \n",
    "    pdf.image('chart5.png', 10,90, h = 80,  w = 210/2+10) \n",
    "    \n",
    "    #pie chart of tags/no tags \n",
    "    y = np.array([count, (len(all_tags)- count)])\n",
    "    plt.pie(y, colors = ['tab:red','darkred'])\n",
    "    plt.legend(['Tags','No Tags'], loc=\"lower right\")\n",
    "    plt.title('Proportion of Videos with/without Tags')\n",
    "    plt.savefig('chart6.png',  bbox_inches='tight')\n",
    "    plt.close()\n",
    "    pdf.image('chart6.png', 130,95, h = 70,  w = 70) "
   ]
  },
  {
   "cell_type": "code",
   "execution_count": 366,
   "id": "d5c17499-2423-4a55-9669-0388590ef8af",
   "metadata": {},
   "outputs": [],
   "source": [
    "# creating pdf \n",
    "def create_report(filename = 'Youtube channel report.pdf'):\n",
    "    pdf = FPDF() \n",
    "    pdf.add_page()\n",
    "    \n",
    "    #First page \n",
    "    title(pdf)\n",
    "    main_stat(pdf)\n",
    "    view_graph(pdf)\n",
    "    like_graph(pdf)\n",
    "    comm_graph(pdf)\n",
    "    \n",
    "    #Second page \n",
    "    pdf.add_page()\n",
    "    month_graph(pdf)\n",
    "    tag_stat(pdf)\n",
    "    \n",
    "    pdf.output(filename)"
   ]
  },
  {
   "cell_type": "code",
   "execution_count": 367,
   "id": "9999bf2c-642d-428f-9a52-5621253e70a1",
   "metadata": {},
   "outputs": [],
   "source": [
    "create_report()"
   ]
  }
 ],
 "metadata": {
  "kernelspec": {
   "display_name": "Python 3 (ipykernel)",
   "language": "python",
   "name": "python3"
  },
  "language_info": {
   "codemirror_mode": {
    "name": "ipython",
    "version": 3
   },
   "file_extension": ".py",
   "mimetype": "text/x-python",
   "name": "python",
   "nbconvert_exporter": "python",
   "pygments_lexer": "ipython3",
   "version": "3.9.7"
  }
 },
 "nbformat": 4,
 "nbformat_minor": 5
}
